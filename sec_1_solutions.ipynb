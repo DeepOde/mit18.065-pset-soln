{
 "cells": [
  {
   "cell_type": "markdown",
   "id": "abroad-stylus",
   "metadata": {},
   "source": [
    "## Problems for Lecture 1 (from textbook Section I.1)"
   ]
  },
  {
   "cell_type": "markdown",
   "id": "black-palestinian",
   "metadata": {},
   "source": [
    "#### 1. Give an example where a combination of three nonzero vectors in **R^4** is the zero vector. Then write your example in the form _A_**x** = **0**. What are the shapes of *A* and **x** and **0** ?"
   ]
  },
  {
   "cell_type": "markdown",
   "id": "skilled-nashville",
   "metadata": {},
   "source": [
    "For,\n",
    "$$ \n",
    "A = \\begin{bmatrix}\n",
    "1 & 2 & 3 \\\\ \n",
    "1 & 4 & 5 \\\\ \n",
    "3 & 1 & 4 \\\\\n",
    "5 & 3 & 8 \n",
    "\\end{bmatrix}$$ \n",
    "with $\\mathbf{x = }\\begin{bmatrix} 1 & 1 & -1\\end{bmatrix}^T$,\n",
    "\n",
    "$A\\mathbf{x = 0}.$  \n",
    "Shape of $A$ is 4 x3, shape of **x** is 3 x 1 and shape of **0** is 4 x 1."
   ]
  },
  {
   "cell_type": "markdown",
   "id": "purple-dallas",
   "metadata": {},
   "source": [
    "#### 2. Suppose $A$ is the 3 by 3 matrix `ones(3, 3)` of all ones. Find two independent vectors $x$ and $y$ that solve $A\\mathbf{x} = \\mathbf{0}$ and $A\\mathbf{y} = \\mathbf{0}$. Write that first equation $A\\mathbf{x} = \\mathbf{0}$ (with numbers) as a combination of the columns of $A$. Why don’t I ask for a third independent vector with $A\\mathbf{z} = \\mathbf{0}$ ? "
   ]
  },
  {
   "cell_type": "code",
   "execution_count": 3,
   "id": "willing-chair",
   "metadata": {},
   "outputs": [
    {
     "data": {
      "text/plain": [
       "array([[1., 1., 1.],\n",
       "       [1., 1., 1.],\n",
       "       [1., 1., 1.]])"
      ]
     },
     "execution_count": 3,
     "metadata": {},
     "output_type": "execute_result"
    }
   ],
   "source": [
    "import numpy as np\n",
    "np.ones((3, 3))"
   ]
  },
  {
   "cell_type": "markdown",
   "id": "balanced-greece",
   "metadata": {},
   "source": [
    "In \n",
    "$$ A = \\begin{bmatrix}\n",
    "1 & 1 & 1 \\\\\n",
    "1 & 1 & 1 \\\\\n",
    "1 & 1 & 1 \\\\\n",
    "\\end{bmatrix} $$\n",
    "2 columns, let's say last 2, are dependent on the column 1. Hence there is only one 'pivot variable' and 2 'free variables'. It can be noted that the rank of the matrix $r = 1$, hence there are $n - r = 2$ independent solutions which can be found by setting each free variable 1 and other free variable to 0 in turn. \n",
    "\n",
    "Setting $x_2 = 1, x_3 = 0$, $$x = \\begin{bmatrix} -1 & 1 & 0 \\end{bmatrix}^T $$ solves $Ax = 0$ and\n",
    "setting $y_2 = 0, y_3 = 1$, $$y = \\begin{bmatrix} -1 & 0 & 1 \\end{bmatrix}^T $$ solves $Ay = 0$.\n",
    "\n",
    "The solutions of $Av = 0$ lie in null space of $A$ which is of dimensions $n - r = 2$. Two indepedent vectors ($x$ and $y$) given above spans the nullspace of $A$ i.e. they form the basis of null space of $A$. Though we can find inifinte other vectors $\\mathbf{z}$ for which $A\\mathbf{z} = 0$, all of them would be linear combinations of $x$ and $y$ hence it is sufficient to find $x$ and $y$."
   ]
  },
  {
   "cell_type": "markdown",
   "id": "checked-parker",
   "metadata": {},
   "source": [
    "#### 3. Suppose the column space of an $m$ by $n$ matrix is all of $R^3$. What can you say about $m$? What can you say about $n$ ? What can you say about the rank $r$ ?"
   ]
  },
  {
   "cell_type": "markdown",
   "id": "negative-montana",
   "metadata": {},
   "source": [
    "Since column space is the all of $\\mathbf{R}^3$, we can say that there are 3 independent columns and hence 3 independent rows. Thus rank $r = 3$. Thus $m$ and $n$ are at least 3, i.e. $m >= 3$ and $n >= 3$."
   ]
  },
  {
   "cell_type": "markdown",
   "id": "outer-drain",
   "metadata": {},
   "source": [
    "#### 4. If $A = CR$, what are the $CR$ factors of \n",
    "$\\begin{bmatrix} \n",
    "0 & A \\\\ \n",
    "0 & A \n",
    "\\end{bmatrix}$"
   ]
  },
  {
   "cell_type": "markdown",
   "id": "fluid-projection",
   "metadata": {},
   "source": [
    "We can treat matrices as a block. \n",
    "$$\n",
    "\\begin{gather}\n",
    "\\begin{bmatrix}\n",
    "0 & A \\\\ \n",
    "0 & A\n",
    "\\end{bmatrix} = \n",
    "\\begin{bmatrix}\n",
    "0 & CR \\\\ \n",
    "0 & CR\n",
    "\\end{bmatrix}\n",
    "\\end{gather} \n",
    "$$\n",
    "Going by the procedure to form $C$ factor, since first column is all $0$s, we skip it, thus,\n",
    "$$\n",
    "\\begin{gather}\n",
    "\\begin{bmatrix}\n",
    "0 & A \\\\ \n",
    "0 & A\n",
    "\\end{bmatrix} = \n",
    "\\begin{bmatrix}\n",
    "0 & CR \\\\ \n",
    "0 & CR\n",
    "\\end{bmatrix} =\n",
    "\\begin{bmatrix}\n",
    "CR \\\\ \n",
    "CR\n",
    "\\end{bmatrix}\n",
    "\\begin{bmatrix}\n",
    "0 & 1\n",
    "\\end{bmatrix}\n",
    "\\end{gather}\n",
    "$$"
   ]
  }
 ],
 "metadata": {
  "kernelspec": {
   "display_name": "Python 3",
   "language": "python",
   "name": "python3"
  },
  "language_info": {
   "codemirror_mode": {
    "name": "ipython",
    "version": 3
   },
   "file_extension": ".py",
   "mimetype": "text/x-python",
   "name": "python",
   "nbconvert_exporter": "python",
   "pygments_lexer": "ipython3",
   "version": "3.9.2"
  }
 },
 "nbformat": 4,
 "nbformat_minor": 5
}
